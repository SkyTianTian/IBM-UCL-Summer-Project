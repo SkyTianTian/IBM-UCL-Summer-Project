{
 "cells": [
  {
   "cell_type": "code",
   "execution_count": 5,
   "metadata": {},
   "outputs": [
    {
     "name": "stdout",
     "output_type": "stream",
     "text": [
      "Requirement already satisfied: earthengine-api in /anaconda3/lib/python3.6/site-packages (0.1.180)\n",
      "Requirement already satisfied: google-auth-httplib2>=0.0.3 in /anaconda3/lib/python3.6/site-packages (from earthengine-api) (0.0.3)\n",
      "Requirement already satisfied: google-api-python-client in /anaconda3/lib/python3.6/site-packages (from earthengine-api) (1.7.9)\n",
      "Requirement already satisfied: six in /anaconda3/lib/python3.6/site-packages (from earthengine-api) (1.11.0)\n",
      "Requirement already satisfied: google-auth>=1.4.1 in /anaconda3/lib/python3.6/site-packages (from earthengine-api) (1.6.3)\n",
      "Requirement already satisfied: httplib2<1dev,>=0.9.2 in /anaconda3/lib/python3.6/site-packages (from earthengine-api) (0.13.0)\n",
      "Requirement already satisfied: uritemplate<4dev,>=3.0.0 in /anaconda3/lib/python3.6/site-packages (from google-api-python-client->earthengine-api) (3.0.0)\n",
      "Requirement already satisfied: cachetools>=2.0.0 in /anaconda3/lib/python3.6/site-packages (from google-auth>=1.4.1->earthengine-api) (3.1.1)\n",
      "Requirement already satisfied: pyasn1-modules>=0.2.1 in /anaconda3/lib/python3.6/site-packages (from google-auth>=1.4.1->earthengine-api) (0.2.2)\n",
      "Requirement already satisfied: rsa>=3.1.4 in /anaconda3/lib/python3.6/site-packages (from google-auth>=1.4.1->earthengine-api) (4.0)\n",
      "Requirement already satisfied: pyasn1<0.5.0,>=0.4.1 in /anaconda3/lib/python3.6/site-packages (from pyasn1-modules>=0.2.1->google-auth>=1.4.1->earthengine-api) (0.4.4)\n"
     ]
    }
   ],
   "source": [
    "!pip install earthengine-api"
   ]
  },
  {
   "cell_type": "code",
   "execution_count": 6,
   "metadata": {},
   "outputs": [],
   "source": [
    "import ee"
   ]
  },
  {
   "cell_type": "code",
   "execution_count": null,
   "metadata": {},
   "outputs": [],
   "source": [
    "try:\n",
    "  ee.Initialize('4/ZwHRLKHVWUWkZsKf_TWpVuOJ87LY_N6vtV_Nw2lpurDrAK-CzmgjV50')\n",
    "except ee.EEException:\n",
    "  !earthengine authenticate\n"
   ]
  },
  {
   "cell_type": "code",
   "execution_count": 8,
   "metadata": {},
   "outputs": [
    {
     "ename": "NameError",
     "evalue": "name 'ZwHRLKHVWUWkZsKf_TWpVuOJ87LY_N6vtV_Nw2lpurDrAK' is not defined",
     "output_type": "error",
     "traceback": [
      "\u001b[0;31m---------------------------------------------------------------------------\u001b[0m",
      "\u001b[0;31mNameError\u001b[0m                                 Traceback (most recent call last)",
      "\u001b[0;32m<ipython-input-8-2ebbe80a9b29>\u001b[0m in \u001b[0;36m<module>\u001b[0;34m\u001b[0m\n\u001b[0;32m----> 1\u001b[0;31m \u001b[0;36m4\u001b[0m\u001b[0;34m/\u001b[0m\u001b[0mZwHRLKHVWUWkZsKf_TWpVuOJ87LY_N6vtV_Nw2lpurDrAK\u001b[0m\u001b[0;34m-\u001b[0m\u001b[0mCzmgjV50\u001b[0m\u001b[0;34m\u001b[0m\u001b[0;34m\u001b[0m\u001b[0m\n\u001b[0m",
      "\u001b[0;31mNameError\u001b[0m: name 'ZwHRLKHVWUWkZsKf_TWpVuOJ87LY_N6vtV_Nw2lpurDrAK' is not defined"
     ]
    }
   ],
   "source": []
  },
  {
   "cell_type": "code",
   "execution_count": null,
   "metadata": {},
   "outputs": [],
   "source": []
  }
 ],
 "metadata": {
  "kernelspec": {
   "display_name": "Python 3",
   "language": "python",
   "name": "python3"
  },
  "language_info": {
   "codemirror_mode": {
    "name": "ipython",
    "version": 3
   },
   "file_extension": ".py",
   "mimetype": "text/x-python",
   "name": "python",
   "nbconvert_exporter": "python",
   "pygments_lexer": "ipython3",
   "version": "3.6.7"
  }
 },
 "nbformat": 4,
 "nbformat_minor": 2
}
