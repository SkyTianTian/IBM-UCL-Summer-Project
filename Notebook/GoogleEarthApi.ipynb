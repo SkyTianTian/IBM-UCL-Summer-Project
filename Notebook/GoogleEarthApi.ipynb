{
 "cells": [
  {
   "cell_type": "code",
   "execution_count": 12,
   "metadata": {},
   "outputs": [
    {
     "name": "stdout",
     "output_type": "stream",
     "text": [
      "Requirement already satisfied: earthengine-api in /anaconda3/lib/python3.6/site-packages (0.1.180)\n",
      "Requirement already satisfied: httplib2<1dev,>=0.9.2 in /anaconda3/lib/python3.6/site-packages (from earthengine-api) (0.13.0)\n",
      "Requirement already satisfied: google-auth>=1.4.1 in /anaconda3/lib/python3.6/site-packages (from earthengine-api) (1.6.3)\n",
      "Requirement already satisfied: six in /anaconda3/lib/python3.6/site-packages (from earthengine-api) (1.11.0)\n",
      "Requirement already satisfied: google-api-python-client in /anaconda3/lib/python3.6/site-packages (from earthengine-api) (1.7.9)\n",
      "Requirement already satisfied: google-auth-httplib2>=0.0.3 in /anaconda3/lib/python3.6/site-packages (from earthengine-api) (0.0.3)\n",
      "Requirement already satisfied: cachetools>=2.0.0 in /anaconda3/lib/python3.6/site-packages (from google-auth>=1.4.1->earthengine-api) (3.1.1)\n",
      "Requirement already satisfied: rsa>=3.1.4 in /anaconda3/lib/python3.6/site-packages (from google-auth>=1.4.1->earthengine-api) (4.0)\n",
      "Requirement already satisfied: pyasn1-modules>=0.2.1 in /anaconda3/lib/python3.6/site-packages (from google-auth>=1.4.1->earthengine-api) (0.2.2)\n",
      "Requirement already satisfied: uritemplate<4dev,>=3.0.0 in /anaconda3/lib/python3.6/site-packages (from google-api-python-client->earthengine-api) (3.0.0)\n",
      "Requirement already satisfied: pyasn1>=0.1.3 in /anaconda3/lib/python3.6/site-packages (from rsa>=3.1.4->google-auth>=1.4.1->earthengine-api) (0.4.4)\n"
     ]
    }
   ],
   "source": [
    "!pip install earthengine-api"
   ]
  },
  {
   "cell_type": "code",
   "execution_count": 24,
   "metadata": {},
   "outputs": [],
   "source": [
    "from IPython.display import display, Image"
   ]
  },
  {
   "cell_type": "code",
   "execution_count": 29,
   "metadata": {},
   "outputs": [],
   "source": [
    "import ee\n",
    "import ee.mapclient"
   ]
  },
  {
   "cell_type": "code",
   "execution_count": 14,
   "metadata": {},
   "outputs": [],
   "source": [
    "try:\n",
    "  ee.Initialize()\n",
    "except ee.EEException:\n",
    "  !earthengine authenticate\n"
   ]
  },
  {
   "cell_type": "code",
   "execution_count": 30,
   "metadata": {},
   "outputs": [],
   "source": [
    "ee.mapclient.centerMap(-95.738, 18.453, 9)"
   ]
  },
  {
   "cell_type": "code",
   "execution_count": null,
   "metadata": {},
   "outputs": [],
   "source": []
  }
 ],
 "metadata": {
  "kernelspec": {
   "display_name": "Python 3",
   "language": "python",
   "name": "python3"
  },
  "language_info": {
   "codemirror_mode": {
    "name": "ipython",
    "version": 3
   },
   "file_extension": ".py",
   "mimetype": "text/x-python",
   "name": "python",
   "nbconvert_exporter": "python",
   "pygments_lexer": "ipython3",
   "version": "3.6.7"
  }
 },
 "nbformat": 4,
 "nbformat_minor": 2
}
